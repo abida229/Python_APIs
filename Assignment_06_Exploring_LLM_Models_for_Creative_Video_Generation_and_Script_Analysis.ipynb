{
  "nbformat": 4,
  "nbformat_minor": 0,
  "metadata": {
    "colab": {
      "provenance": [],
      "authorship_tag": "ABX9TyODPeVMiJTMMra8vNZP4rmW",
      "include_colab_link": true
    },
    "kernelspec": {
      "name": "python3",
      "display_name": "Python 3"
    },
    "language_info": {
      "name": "python"
    }
  },
  "cells": [
    {
      "cell_type": "markdown",
      "metadata": {
        "id": "view-in-github",
        "colab_type": "text"
      },
      "source": [
        "<a href=\"https://colab.research.google.com/github/abida229/Python_APIs/blob/main/Assignment_06_Exploring_LLM_Models_for_Creative_Video_Generation_and_Script_Analysis.ipynb\" target=\"_parent\"><img src=\"https://colab.research.google.com/assets/colab-badge.svg\" alt=\"Open In Colab\"/></a>"
      ]
    },
    {
      "cell_type": "markdown",
      "source": [
        "# **Objective:**\n",
        "The goal of this assignment is to explore the capabilities of Large Language Models (LLMs) in generating creative content. Students will use an LLM to generate a video based on a creative prompt, save the generated video, and analyze it using Gemini LLM to produce a script with a detailed timeline."
      ],
      "metadata": {
        "id": "UkJT03kPehZX"
      }
    },
    {
      "cell_type": "markdown",
      "source": [
        "# **Step 1: Generate a Creative Video**\n",
        "\n",
        "Select an LLM model capable of video generation (e.g., a multimodal LLM like OpenAI’s GPT-4 Vision or other suitable platforms).\n",
        "Design a creative and detailed prompt for video generation. For example, “Create a short animated video showing the life of a tree through the seasons.”\n",
        "Generate the video using the selected LLM."
      ],
      "metadata": {
        "id": "xepgB8mkyMdv"
      }
    },
    {
      "cell_type": "code",
      "source": [
        "#this line of code connect colab to the google drive\n",
        "from google.colab import drive\n",
        "drive.mount('/content/drive')"
      ],
      "metadata": {
        "colab": {
          "base_uri": "https://localhost:8080/"
        },
        "id": "La-MhuLTzgpC",
        "outputId": "0257415d-429f-4457-be91-99a5f5359e54"
      },
      "execution_count": 5,
      "outputs": [
        {
          "output_type": "stream",
          "name": "stdout",
          "text": [
            "Mounted at /content/drive\n"
          ]
        }
      ]
    },
    {
      "cell_type": "markdown",
      "source": [
        "# **Prompt 1:**\n",
        "\"Create a 60-second cinematic video of a powerful ocean storm. Towering waves rise and crash violently against jagged, dark rocky cliffs, sending sprays of white foam into the air. The sky is a chaotic mix of swirling dark gray clouds, periodically illuminated by blinding flashes of lightning that streak across the horizon. Thunder rumbles deeply, shaking the atmosphere. In the foreground, sea birds struggle to stay aloft, their silhouettes faintly visible against the stormy sky. The camera pans from the turbulent water to the cliffs, showing streams of rainwater cascading down the rocks. As the lightning flashes, it briefly reveals a ship in the distance, battling the waves with its sails torn and mast creaking under the wind’s force. The scene concludes with a dramatic close-up of a wave breaking in slow motion, the spray glistening in the fleeting light of another lightning strike.\"\n"
      ],
      "metadata": {
        "id": "wX67aQdwyswP"
      }
    },
    {
      "cell_type": "code",
      "source": [
        "#copy path of video from google drive\n",
        "video_1 = \"/content/drive/MyDrive/Colab Notebooks/Agentic AI code/Epic _Ocean_Storm.mp4\""
      ],
      "metadata": {
        "id": "oiu54Q8xzCkU"
      },
      "execution_count": 7,
      "outputs": []
    },
    {
      "cell_type": "code",
      "execution_count": 4,
      "metadata": {
        "id": "zzgdWr4yDwPC"
      },
      "outputs": [],
      "source": [
        "from google.colab import userdata\n",
        "Google_api = userdata.get('GOOGLE_API_KEY')"
      ]
    },
    {
      "cell_type": "code",
      "source": [
        "!pip install langchain_google_genai"
      ],
      "metadata": {
        "colab": {
          "base_uri": "https://localhost:8080/"
        },
        "collapsed": true,
        "id": "O-XeIYRvei6H",
        "outputId": "f7efbb1b-013c-483a-ef85-128c0dd7f6fd"
      },
      "execution_count": 2,
      "outputs": [
        {
          "output_type": "stream",
          "name": "stdout",
          "text": [
            "Collecting langchain_google_genai\n",
            "  Downloading langchain_google_genai-2.0.7-py3-none-any.whl.metadata (3.6 kB)\n",
            "Collecting filetype<2.0.0,>=1.2.0 (from langchain_google_genai)\n",
            "  Downloading filetype-1.2.0-py2.py3-none-any.whl.metadata (6.5 kB)\n",
            "Requirement already satisfied: google-generativeai<0.9.0,>=0.8.0 in /usr/local/lib/python3.10/dist-packages (from langchain_google_genai) (0.8.3)\n",
            "Requirement already satisfied: langchain-core<0.4,>=0.3.15 in /usr/local/lib/python3.10/dist-packages (from langchain_google_genai) (0.3.25)\n",
            "Requirement already satisfied: pydantic<3,>=2 in /usr/local/lib/python3.10/dist-packages (from langchain_google_genai) (2.10.3)\n",
            "Requirement already satisfied: google-ai-generativelanguage==0.6.10 in /usr/local/lib/python3.10/dist-packages (from google-generativeai<0.9.0,>=0.8.0->langchain_google_genai) (0.6.10)\n",
            "Requirement already satisfied: google-api-core in /usr/local/lib/python3.10/dist-packages (from google-generativeai<0.9.0,>=0.8.0->langchain_google_genai) (2.19.2)\n",
            "Requirement already satisfied: google-api-python-client in /usr/local/lib/python3.10/dist-packages (from google-generativeai<0.9.0,>=0.8.0->langchain_google_genai) (2.155.0)\n",
            "Requirement already satisfied: google-auth>=2.15.0 in /usr/local/lib/python3.10/dist-packages (from google-generativeai<0.9.0,>=0.8.0->langchain_google_genai) (2.27.0)\n",
            "Requirement already satisfied: protobuf in /usr/local/lib/python3.10/dist-packages (from google-generativeai<0.9.0,>=0.8.0->langchain_google_genai) (4.25.5)\n",
            "Requirement already satisfied: tqdm in /usr/local/lib/python3.10/dist-packages (from google-generativeai<0.9.0,>=0.8.0->langchain_google_genai) (4.67.1)\n",
            "Requirement already satisfied: typing-extensions in /usr/local/lib/python3.10/dist-packages (from google-generativeai<0.9.0,>=0.8.0->langchain_google_genai) (4.12.2)\n",
            "Requirement already satisfied: proto-plus<2.0.0dev,>=1.22.3 in /usr/local/lib/python3.10/dist-packages (from google-ai-generativelanguage==0.6.10->google-generativeai<0.9.0,>=0.8.0->langchain_google_genai) (1.25.0)\n",
            "Requirement already satisfied: PyYAML>=5.3 in /usr/local/lib/python3.10/dist-packages (from langchain-core<0.4,>=0.3.15->langchain_google_genai) (6.0.2)\n",
            "Requirement already satisfied: jsonpatch<2.0,>=1.33 in /usr/local/lib/python3.10/dist-packages (from langchain-core<0.4,>=0.3.15->langchain_google_genai) (1.33)\n",
            "Requirement already satisfied: langsmith<0.3,>=0.1.125 in /usr/local/lib/python3.10/dist-packages (from langchain-core<0.4,>=0.3.15->langchain_google_genai) (0.2.3)\n",
            "Requirement already satisfied: packaging<25,>=23.2 in /usr/local/lib/python3.10/dist-packages (from langchain-core<0.4,>=0.3.15->langchain_google_genai) (24.2)\n",
            "Requirement already satisfied: tenacity!=8.4.0,<10.0.0,>=8.1.0 in /usr/local/lib/python3.10/dist-packages (from langchain-core<0.4,>=0.3.15->langchain_google_genai) (9.0.0)\n",
            "Requirement already satisfied: annotated-types>=0.6.0 in /usr/local/lib/python3.10/dist-packages (from pydantic<3,>=2->langchain_google_genai) (0.7.0)\n",
            "Requirement already satisfied: pydantic-core==2.27.1 in /usr/local/lib/python3.10/dist-packages (from pydantic<3,>=2->langchain_google_genai) (2.27.1)\n",
            "Requirement already satisfied: googleapis-common-protos<2.0.dev0,>=1.56.2 in /usr/local/lib/python3.10/dist-packages (from google-api-core->google-generativeai<0.9.0,>=0.8.0->langchain_google_genai) (1.66.0)\n",
            "Requirement already satisfied: requests<3.0.0.dev0,>=2.18.0 in /usr/local/lib/python3.10/dist-packages (from google-api-core->google-generativeai<0.9.0,>=0.8.0->langchain_google_genai) (2.32.3)\n",
            "Requirement already satisfied: cachetools<6.0,>=2.0.0 in /usr/local/lib/python3.10/dist-packages (from google-auth>=2.15.0->google-generativeai<0.9.0,>=0.8.0->langchain_google_genai) (5.5.0)\n",
            "Requirement already satisfied: pyasn1-modules>=0.2.1 in /usr/local/lib/python3.10/dist-packages (from google-auth>=2.15.0->google-generativeai<0.9.0,>=0.8.0->langchain_google_genai) (0.4.1)\n",
            "Requirement already satisfied: rsa<5,>=3.1.4 in /usr/local/lib/python3.10/dist-packages (from google-auth>=2.15.0->google-generativeai<0.9.0,>=0.8.0->langchain_google_genai) (4.9)\n",
            "Requirement already satisfied: jsonpointer>=1.9 in /usr/local/lib/python3.10/dist-packages (from jsonpatch<2.0,>=1.33->langchain-core<0.4,>=0.3.15->langchain_google_genai) (3.0.0)\n",
            "Requirement already satisfied: httpx<1,>=0.23.0 in /usr/local/lib/python3.10/dist-packages (from langsmith<0.3,>=0.1.125->langchain-core<0.4,>=0.3.15->langchain_google_genai) (0.28.1)\n",
            "Requirement already satisfied: orjson<4.0.0,>=3.9.14 in /usr/local/lib/python3.10/dist-packages (from langsmith<0.3,>=0.1.125->langchain-core<0.4,>=0.3.15->langchain_google_genai) (3.10.12)\n",
            "Requirement already satisfied: requests-toolbelt<2.0.0,>=1.0.0 in /usr/local/lib/python3.10/dist-packages (from langsmith<0.3,>=0.1.125->langchain-core<0.4,>=0.3.15->langchain_google_genai) (1.0.0)\n",
            "Requirement already satisfied: httplib2<1.dev0,>=0.19.0 in /usr/local/lib/python3.10/dist-packages (from google-api-python-client->google-generativeai<0.9.0,>=0.8.0->langchain_google_genai) (0.22.0)\n",
            "Requirement already satisfied: google-auth-httplib2<1.0.0,>=0.2.0 in /usr/local/lib/python3.10/dist-packages (from google-api-python-client->google-generativeai<0.9.0,>=0.8.0->langchain_google_genai) (0.2.0)\n",
            "Requirement already satisfied: uritemplate<5,>=3.0.1 in /usr/local/lib/python3.10/dist-packages (from google-api-python-client->google-generativeai<0.9.0,>=0.8.0->langchain_google_genai) (4.1.1)\n",
            "Requirement already satisfied: grpcio<2.0dev,>=1.33.2 in /usr/local/lib/python3.10/dist-packages (from google-api-core[grpc]!=2.0.*,!=2.1.*,!=2.10.*,!=2.2.*,!=2.3.*,!=2.4.*,!=2.5.*,!=2.6.*,!=2.7.*,!=2.8.*,!=2.9.*,<3.0.0dev,>=1.34.1->google-ai-generativelanguage==0.6.10->google-generativeai<0.9.0,>=0.8.0->langchain_google_genai) (1.68.1)\n",
            "Requirement already satisfied: grpcio-status<2.0.dev0,>=1.33.2 in /usr/local/lib/python3.10/dist-packages (from google-api-core[grpc]!=2.0.*,!=2.1.*,!=2.10.*,!=2.2.*,!=2.3.*,!=2.4.*,!=2.5.*,!=2.6.*,!=2.7.*,!=2.8.*,!=2.9.*,<3.0.0dev,>=1.34.1->google-ai-generativelanguage==0.6.10->google-generativeai<0.9.0,>=0.8.0->langchain_google_genai) (1.62.3)\n",
            "Requirement already satisfied: pyparsing!=3.0.0,!=3.0.1,!=3.0.2,!=3.0.3,<4,>=2.4.2 in /usr/local/lib/python3.10/dist-packages (from httplib2<1.dev0,>=0.19.0->google-api-python-client->google-generativeai<0.9.0,>=0.8.0->langchain_google_genai) (3.2.0)\n",
            "Requirement already satisfied: anyio in /usr/local/lib/python3.10/dist-packages (from httpx<1,>=0.23.0->langsmith<0.3,>=0.1.125->langchain-core<0.4,>=0.3.15->langchain_google_genai) (3.7.1)\n",
            "Requirement already satisfied: certifi in /usr/local/lib/python3.10/dist-packages (from httpx<1,>=0.23.0->langsmith<0.3,>=0.1.125->langchain-core<0.4,>=0.3.15->langchain_google_genai) (2024.12.14)\n",
            "Requirement already satisfied: httpcore==1.* in /usr/local/lib/python3.10/dist-packages (from httpx<1,>=0.23.0->langsmith<0.3,>=0.1.125->langchain-core<0.4,>=0.3.15->langchain_google_genai) (1.0.7)\n",
            "Requirement already satisfied: idna in /usr/local/lib/python3.10/dist-packages (from httpx<1,>=0.23.0->langsmith<0.3,>=0.1.125->langchain-core<0.4,>=0.3.15->langchain_google_genai) (3.10)\n",
            "Requirement already satisfied: h11<0.15,>=0.13 in /usr/local/lib/python3.10/dist-packages (from httpcore==1.*->httpx<1,>=0.23.0->langsmith<0.3,>=0.1.125->langchain-core<0.4,>=0.3.15->langchain_google_genai) (0.14.0)\n",
            "Requirement already satisfied: pyasn1<0.7.0,>=0.4.6 in /usr/local/lib/python3.10/dist-packages (from pyasn1-modules>=0.2.1->google-auth>=2.15.0->google-generativeai<0.9.0,>=0.8.0->langchain_google_genai) (0.6.1)\n",
            "Requirement already satisfied: charset-normalizer<4,>=2 in /usr/local/lib/python3.10/dist-packages (from requests<3.0.0.dev0,>=2.18.0->google-api-core->google-generativeai<0.9.0,>=0.8.0->langchain_google_genai) (3.4.0)\n",
            "Requirement already satisfied: urllib3<3,>=1.21.1 in /usr/local/lib/python3.10/dist-packages (from requests<3.0.0.dev0,>=2.18.0->google-api-core->google-generativeai<0.9.0,>=0.8.0->langchain_google_genai) (2.2.3)\n",
            "Requirement already satisfied: sniffio>=1.1 in /usr/local/lib/python3.10/dist-packages (from anyio->httpx<1,>=0.23.0->langsmith<0.3,>=0.1.125->langchain-core<0.4,>=0.3.15->langchain_google_genai) (1.3.1)\n",
            "Requirement already satisfied: exceptiongroup in /usr/local/lib/python3.10/dist-packages (from anyio->httpx<1,>=0.23.0->langsmith<0.3,>=0.1.125->langchain-core<0.4,>=0.3.15->langchain_google_genai) (1.2.2)\n",
            "Downloading langchain_google_genai-2.0.7-py3-none-any.whl (41 kB)\n",
            "\u001b[2K   \u001b[90m━━━━━━━━━━━━━━━━━━━━━━━━━━━━━━━━━━━━━━━━\u001b[0m \u001b[32m41.3/41.3 kB\u001b[0m \u001b[31m1.6 MB/s\u001b[0m eta \u001b[36m0:00:00\u001b[0m\n",
            "\u001b[?25hDownloading filetype-1.2.0-py2.py3-none-any.whl (19 kB)\n",
            "Installing collected packages: filetype, langchain_google_genai\n",
            "Successfully installed filetype-1.2.0 langchain_google_genai-2.0.7\n"
          ]
        }
      ]
    },
    {
      "cell_type": "code",
      "source": [
        "from langchain_google_genai import ChatGoogleGenerativeAI"
      ],
      "metadata": {
        "id": "VdwsO8onejAD"
      },
      "execution_count": 3,
      "outputs": []
    },
    {
      "cell_type": "code",
      "source": [
        "llm = ChatGoogleGenerativeAI(\n",
        "    api_key = Google_api,\n",
        "    model = \"gemini-2.0-flash-exp\",\n",
        "\n",
        ")"
      ],
      "metadata": {
        "id": "39myW_TIejDs"
      },
      "execution_count": 6,
      "outputs": []
    },
    {
      "cell_type": "code",
      "source": [
        "from google import genai\n",
        "from google.genai import Client\n"
      ],
      "metadata": {
        "id": "5SWqVlghejHg"
      },
      "execution_count": 11,
      "outputs": []
    },
    {
      "cell_type": "code",
      "source": [
        "model: str = \"gemini-2.0-flash-exp\"\n",
        "client: Client = genai.Client(\n",
        "    api_key = Google_api,\n",
        ")"
      ],
      "metadata": {
        "id": "WTwJuNafejLW"
      },
      "execution_count": 12,
      "outputs": []
    },
    {
      "cell_type": "markdown",
      "source": [
        "# **Generate a Script with Timeline**"
      ],
      "metadata": {
        "id": "5OQ_5JgRWy33"
      }
    },
    {
      "cell_type": "code",
      "source": [
        "from IPython.display import  display, Audio, Markdown"
      ],
      "metadata": {
        "id": "dcLsvU0CAAce"
      },
      "execution_count": 17,
      "outputs": []
    },
    {
      "cell_type": "code",
      "source": [
        "# Upload all the videos using the File API.\n",
        "# You can find more details about how to use it in the Get Started notebook.\n",
        "# This can take a couple of minutes as the videos will need to be processed and tokenized.\n",
        "\n",
        "import time\n",
        "\n",
        "def upload_video(video_file_name):\n",
        "  video_file = client.files.upload(path=\"/content/drive/MyDrive/Colab Notebooks/Agentic AI code/Epic _Ocean_Storm.mp4\")\n",
        "  while video_file.state == \"PROCESSING\":\n",
        "      print('Waiting for video to be processed.')\n",
        "      time.sleep(10)\n",
        "      video_file = client.files.get(name=video_file.name or \"\")\n",
        "\n",
        "  if video_file.state == \"FAILED\":\n",
        "    raise ValueError(video_file.state)\n",
        "  print(f'Video processing complete: ' + (video_file.uri or \"\"))\n",
        "\n",
        "  return video_file\n",
        "\n",
        "pottery_video = upload_video('Pottery.mp4')"
      ],
      "metadata": {
        "colab": {
          "base_uri": "https://localhost:8080/"
        },
        "id": "AH5P0hVnNjmE",
        "outputId": "9ad38dd7-cd98-4d09-a47f-9b6370ea9cd1"
      },
      "execution_count": 22,
      "outputs": [
        {
          "output_type": "stream",
          "name": "stdout",
          "text": [
            "Waiting for video to be processed.\n",
            "Video processing complete: https://generativelanguage.googleapis.com/v1beta/files/5q2bu2k5uauk\n"
          ]
        }
      ]
    },
    {
      "cell_type": "code",
      "source": [
        "from google.genai.types import Content, Part\n",
        "prompt = \"\"\"For each scene in this video,\n",
        "            generate captions that describe the scene along with any spoken text placed in quotation marks.\n",
        "            Place each caption into an object with the timecode of the caption in the video.\n",
        "         \"\"\"\n",
        "\n",
        "video = pottery_video\n",
        "\n",
        "response = client.models.generate_content(\n",
        "    model=model,\n",
        "    contents=[\n",
        "        Content(\n",
        "            role=\"user\",\n",
        "            parts=[\n",
        "                Part.from_uri(\n",
        "                    file_uri=video.uri or \"\",\n",
        "                    mime_type=video.mime_type or \"\"),\n",
        "                ]),\n",
        "        prompt,\n",
        "    ]\n",
        ")\n",
        "\n",
        "Markdown(response.text)"
      ],
      "metadata": {
        "colab": {
          "base_uri": "https://localhost:8080/",
          "height": 1000
        },
        "id": "5X3nw45FNsK_",
        "outputId": "731b42ad-de24-4b99-f6ea-af43ff0a7385"
      },
      "execution_count": 23,
      "outputs": [
        {
          "output_type": "execute_result",
          "data": {
            "text/plain": [
              "<IPython.core.display.Markdown object>"
            ],
            "text/markdown": "```json\n[\n    {\n        \"timecode\": \"0:00\",\n        \"caption\": \"An aerial view of a beach with many people relaxing on the sand and swimming in the ocean. A green and yellow lifeguard tower is in the foreground and text overlayed says “THE OCEAN.” The narrator says, “The ocean is a force of nature, wild and untamed.”\"\n     },\n    {\n        \"timecode\":\"0:03\",\n         \"caption\":\"The aerial shot continues, and now text overlay says, “LOOK.” An animated character on a surfboard is added to the image. The narrator says, “Look at those towering waves crashing against the jagged cliffs with a fury that echoes through the air.”\"\n     },\n    {\n         \"timecode\":\"0:07\",\n         \"caption\":\"An aerial view of a rocky shore and the ocean with an eagle flying by. A red angry emoji is in the center of the image, and the narrator says, “Each surge sends sprays of foam soaring, a reminder of the power that lies beneath the surface.”\"\n     },\n     {\n         \"timecode\":\"0:16\",\n        \"caption\":\"Dark rain clouds fill the sky over a rural scene. A white cloud and yellow sun emoji is added to the center of the screen. The narrator says, “The sky churns with dark clouds, illuminated by lightning that splits the horizon.”\"\n     },\n    {\n         \"timecode\":\"0:21\",\n         \"caption\":\"The sky is full of dark, ominous clouds with rain coming down. Sushi is placed on the screen, and the narrator says, “a fleeting glimpse of nature’s raw energy.”\"\n     },\n     {\n         \"timecode\":\"0:25\",\n        \"caption\":\"Dark clouds and rain in the sky over a green, rural area. A raining cloud emoji is overlayed onto the scene. The narrator says, “Thunder rolls like a beast awakening, shaking the very ground beneath us.”\"\n     },\n      {\n        \"timecode\":\"0:30\",\n        \"caption\":\"A grey sky is filled with many birds flying over an urban landscape. A black flag emoji is added to the center of the screen. The narrator says, “In the chaos, sea birds fight to stay airborne.”\"\n     },\n    {\n        \"timecode\":\"0:33\",\n        \"caption\":\"A grey sky with many birds flying. A person riding a wheelchair emoji is added to the center of the screen. The narrator says, “Their silhouettes a testament to resilience.”\"\n     },\n    {\n         \"timecode\":\"0:37\",\n         \"caption\":\"A cruise ship in the ocean with a setting sun. The narrator says, “And there in the distance, a ship battles the storm.”\"\n     },\n    {\n         \"timecode\":\"0:40\",\n         \"caption\":\"A ship is on the horizon of the sea. A white cloud with a lightening bolt emoji is added. The narrator says, “Its sails torn and mast creaking.”\"\n     },\n      {\n         \"timecode\":\"0:43\",\n        \"caption\":\"The ocean is visible with a text and music note emoji overlayed. The narrator says, “A symbol of human determination against the elements.”\"\n     },\n     {\n         \"timecode\":\"0:47\",\n         \"caption\":\"A ship is being tossed around in a rough sea. A purple umbrella emoji with rain is added. The narrator says, “As the rain cascades down the rocks.”\"\n     },\n     {\n        \"timecode\": \"0:49\",\n        \"caption\":\"Water is falling off of rocks. A mountain landscape emoji is overlayed. The narrator says, “The scene intensifies culminating in a breathtaking close up of a wave.”\"\n     },\n      {\n         \"timecode\":\"0:53\",\n         \"caption\":\"A wave is crashing on the beach. An upward arrow emoji is in the middle of the screen and the narrator says, “breaking in slow motion.”\"\n     },\n    {\n        \"timecode\":\"0:55\",\n        \"caption\":\"A wave is crashing on the beach and a raindrop emoji is visible. The narrator says, “Each droplet catching the light.”\"\n     },\n     {\n         \"timecode\":\"0:58\",\n        \"caption\":\"A wave is crashing on the beach. A hand with painted fingernails emoji is in the center of the screen. The narrator says, “a fleeting moment of beauty amid the tempest.”\"\n     },\n    {\n        \"timecode\":\"1:01\",\n         \"caption\":\"A wave is crashing on the beach, and a red, angry emoji is in the center. The narrator says, “This is the ocean's fury.”\"\n     },\n     {\n        \"timecode\":\"1:03\",\n        \"caption\":\"The ocean is viewable with white foam. A red, angry emoji is in the center of the screen. The narrator says, “A reminder of our place in the world.”\"\n     }\n ]\n```"
          },
          "metadata": {},
          "execution_count": 23
        }
      ]
    },
    {
      "cell_type": "markdown",
      "source": [
        "#**Prompt 2:**\n",
        "\"Generate a video showcasing the effects of climate change, with rising sea levels, melting glaciers, and efforts to combat global warming.\""
      ],
      "metadata": {
        "id": "bir-i0vNyZDy"
      }
    },
    {
      "cell_type": "code",
      "source": [
        "#video path from google drive\n",
        "video = \"/content/drive/MyDrive/Colab Notebooks/Agentic AI code/Save _Planet.mp4\"\n"
      ],
      "metadata": {
        "id": "36VsalND2-3k"
      },
      "execution_count": 24,
      "outputs": []
    },
    {
      "cell_type": "code",
      "source": [
        "# Upload all the videos using the File API.\n",
        "# You can find more details about how to use it in the Get Started notebook.\n",
        "# This can take a couple of minutes as the videos will need to be processed and tokenized.\n",
        "\n",
        "import time\n",
        "\n",
        "def upload_video(video_file_name):\n",
        "  video_file = client.files.upload(path=\"/content/drive/MyDrive/Colab Notebooks/Agentic AI code/Save _Planet.mp4\")\n",
        "  while video_file.state == \"PROCESSING\":\n",
        "      print('Waiting for video to be processed.')\n",
        "      time.sleep(10)\n",
        "      video_file = client.files.get(name=video_file.name or \"\")\n",
        "\n",
        "  if video_file.state == \"FAILED\":\n",
        "    raise ValueError(video_file.state)\n",
        "  print(f'Video processing complete: ' + (video_file.uri or \"\"))\n",
        "\n",
        "  return video_file\n",
        "\n",
        "pottery_video = upload_video('Pottery.mp4')"
      ],
      "metadata": {
        "colab": {
          "base_uri": "https://localhost:8080/"
        },
        "id": "EaFAERjRSpke",
        "outputId": "5ad5a611-8c9a-4220-c05c-c45628bcba99"
      },
      "execution_count": 25,
      "outputs": [
        {
          "output_type": "stream",
          "name": "stdout",
          "text": [
            "Waiting for video to be processed.\n",
            "Video processing complete: https://generativelanguage.googleapis.com/v1beta/files/4sixlegvap32\n"
          ]
        }
      ]
    },
    {
      "cell_type": "code",
      "source": [
        "from google.genai.types import Content, Part\n",
        "prompt = \"\"\"For each scene in this video,\n",
        "            generate captions that describe the scene along with any spoken text placed in quotation marks.\n",
        "            Place each caption into an object with the timecode of the caption in the video.\n",
        "         \"\"\"\n",
        "\n",
        "video = pottery_video\n",
        "\n",
        "response = client.models.generate_content(\n",
        "    model=model,\n",
        "    contents=[\n",
        "        Content(\n",
        "            role=\"user\",\n",
        "            parts=[\n",
        "                Part.from_uri(\n",
        "                    file_uri=video.uri or \"\",\n",
        "                    mime_type=video.mime_type or \"\"),\n",
        "                ]),\n",
        "        prompt,\n",
        "    ]\n",
        ")\n",
        "\n",
        "Markdown(response.text)"
      ],
      "metadata": {
        "colab": {
          "base_uri": "https://localhost:8080/",
          "height": 766
        },
        "id": "tUzMCf_OSpvL",
        "outputId": "d2b36bbb-b893-4665-a2e2-e93bb1fb9f4a"
      },
      "execution_count": 26,
      "outputs": [
        {
          "output_type": "execute_result",
          "data": {
            "text/plain": [
              "<IPython.core.display.Markdown object>"
            ],
            "text/markdown": "```json\n[\n  {\n    \"timecode\": \"00:00\",\n    \"caption\": \"An aerial view of a bridge with a road on it, over a body of water that has a lot of turbulent water movement. “Everyday our planet faces a growing crisis: climate change.”\"\n  },\n  {\n    \"timecode\": \"00:07\",\n    \"caption\": \"An aerial view of a barrier with water flowing through it.  “Rising sea levels are swallowing coastlines.”\"\n  },\n    {\n    \"timecode\": \"00:08\",\n    \"caption\": \"An aerial view of large pieces of ice floating in water, with snow-capped mountains in the distance. “Glaciers, once majestic and vast, are now disappearing at an alarming rate.”\"\n  },\n    {\n    \"timecode\": \"00:14\",\n    \"caption\": \"An aerial view of a large body of water, with land and mountains in the distance. “Extreme weather events are becoming our new reality.”\"\n  },\n    {\n    \"timecode\": \"00:18\",\n    \"caption\": \"An aerial view of a large body of water, with a light colored surface. “But it's not all doom and gloom.”\"\n  },\n    {\n    \"timecode\": \"00:21\",\n    \"caption\": \"A girl in a light blue shirt, black pants, and pink shoes planting a tree outside.  “Around the world, people are fighting back.”\"\n  },\n  {\n    \"timecode\": \"00:24\",\n    \"caption\": \"An aerial view of an area with a large amount of solar panels and wind turbines. “Adopting renewable energy, planting billions of trees, and innovating for a sustainable future.”\"\n  },\n  {\n    \"timecode\": \"00:29\",\n     \"caption\": \"Close up of people planting a tree. “Change starts with awareness, and awareness starts with you.”\"\n  },\n   {\n    \"timecode\": \"00:33\",\n    \"caption\": \"An aerial view of several wind turbines in a body of water. “Together, we can make a difference.”\"\n  },\n   {\n    \"timecode\": \"00:36\",\n    \"caption\":\"An aerial view of solar panels on a rooftop. “Act now because our planet doesn't have a pause button.”\"\n  }\n]\n```"
          },
          "metadata": {},
          "execution_count": 26
        }
      ]
    },
    {
      "cell_type": "code",
      "source": [],
      "metadata": {
        "id": "o59UCjTbSp00"
      },
      "execution_count": null,
      "outputs": []
    }
  ]
}