{
  "nbformat": 4,
  "nbformat_minor": 0,
  "metadata": {
    "colab": {
      "provenance": [],
      "authorship_tag": "ABX9TyP4eyWGKbeW17WcHhuIsyQV",
      "include_colab_link": true
    },
    "kernelspec": {
      "name": "python3",
      "display_name": "Python 3"
    },
    "language_info": {
      "name": "python"
    }
  },
  "cells": [
    {
      "cell_type": "markdown",
      "metadata": {
        "id": "view-in-github",
        "colab_type": "text"
      },
      "source": [
        "<a href=\"https://colab.research.google.com/github/abida229/Python_APIs/blob/main/PROJECT_3_Tool_calling_with_langchain_using_Google_API_key.ipynb\" target=\"_parent\"><img src=\"https://colab.research.google.com/assets/colab-badge.svg\" alt=\"Open In Colab\"/></a>"
      ]
    },
    {
      "cell_type": "markdown",
      "source": [
        "# **Function Calling with LangChain**"
      ],
      "metadata": {
        "id": "RpfQrQqTwUCz"
      }
    },
    {
      "cell_type": "code",
      "execution_count": null,
      "metadata": {
        "colab": {
          "base_uri": "https://localhost:8080/"
        },
        "id": "OGY6KK0XwTQS",
        "outputId": "d2cda88a-f022-4591-8dd6-624192f82042"
      },
      "outputs": [
        {
          "output_type": "stream",
          "name": "stdout",
          "text": [
            "\u001b[?25l   \u001b[90m━━━━━━━━━━━━━━━━━━━━━━━━━━━━━━━━━━━━━━━━\u001b[0m \u001b[32m0.0/41.5 kB\u001b[0m \u001b[31m?\u001b[0m eta \u001b[36m-:--:--\u001b[0m\r\u001b[2K   \u001b[90m━━━━━━━━━━━━━━━━━━━━━━━━━━━━━━━━━━━━━━━━\u001b[0m \u001b[32m41.5/41.5 kB\u001b[0m \u001b[31m1.4 MB/s\u001b[0m eta \u001b[36m0:00:00\u001b[0m\n",
            "\u001b[?25h"
          ]
        }
      ],
      "source": [
        "# Install necessary Packages\n",
        "!pip install -Uq langchain-google-genai"
      ]
    },
    {
      "cell_type": "code",
      "source": [
        "!pip install langchain langchain_community"
      ],
      "metadata": {
        "colab": {
          "base_uri": "https://localhost:8080/"
        },
        "collapsed": true,
        "id": "h1PBskG8xQUk",
        "outputId": "eaa1d276-9215-4cdf-89e6-16afe3196e00"
      },
      "execution_count": null,
      "outputs": [
        {
          "output_type": "stream",
          "name": "stdout",
          "text": [
            "Requirement already satisfied: langchain in /usr/local/lib/python3.11/dist-packages (0.3.14)\n",
            "Collecting langchain_community\n",
            "  Downloading langchain_community-0.3.14-py3-none-any.whl.metadata (2.9 kB)\n",
            "Requirement already satisfied: PyYAML>=5.3 in /usr/local/lib/python3.11/dist-packages (from langchain) (6.0.2)\n",
            "Requirement already satisfied: SQLAlchemy<3,>=1.4 in /usr/local/lib/python3.11/dist-packages (from langchain) (2.0.37)\n",
            "Requirement already satisfied: aiohttp<4.0.0,>=3.8.3 in /usr/local/lib/python3.11/dist-packages (from langchain) (3.11.11)\n",
            "Requirement already satisfied: langchain-core<0.4.0,>=0.3.29 in /usr/local/lib/python3.11/dist-packages (from langchain) (0.3.29)\n",
            "Requirement already satisfied: langchain-text-splitters<0.4.0,>=0.3.3 in /usr/local/lib/python3.11/dist-packages (from langchain) (0.3.5)\n",
            "Requirement already satisfied: langsmith<0.3,>=0.1.17 in /usr/local/lib/python3.11/dist-packages (from langchain) (0.2.10)\n",
            "Requirement already satisfied: numpy<2,>=1.22.4 in /usr/local/lib/python3.11/dist-packages (from langchain) (1.26.4)\n",
            "Requirement already satisfied: pydantic<3.0.0,>=2.7.4 in /usr/local/lib/python3.11/dist-packages (from langchain) (2.10.5)\n",
            "Requirement already satisfied: requests<3,>=2 in /usr/local/lib/python3.11/dist-packages (from langchain) (2.32.3)\n",
            "Requirement already satisfied: tenacity!=8.4.0,<10,>=8.1.0 in /usr/local/lib/python3.11/dist-packages (from langchain) (9.0.0)\n",
            "Collecting dataclasses-json<0.7,>=0.5.7 (from langchain_community)\n",
            "  Downloading dataclasses_json-0.6.7-py3-none-any.whl.metadata (25 kB)\n",
            "Collecting httpx-sse<0.5.0,>=0.4.0 (from langchain_community)\n",
            "  Downloading httpx_sse-0.4.0-py3-none-any.whl.metadata (9.0 kB)\n",
            "Collecting pydantic-settings<3.0.0,>=2.4.0 (from langchain_community)\n",
            "  Downloading pydantic_settings-2.7.1-py3-none-any.whl.metadata (3.5 kB)\n",
            "Requirement already satisfied: aiohappyeyeballs>=2.3.0 in /usr/local/lib/python3.11/dist-packages (from aiohttp<4.0.0,>=3.8.3->langchain) (2.4.4)\n",
            "Requirement already satisfied: aiosignal>=1.1.2 in /usr/local/lib/python3.11/dist-packages (from aiohttp<4.0.0,>=3.8.3->langchain) (1.3.2)\n",
            "Requirement already satisfied: attrs>=17.3.0 in /usr/local/lib/python3.11/dist-packages (from aiohttp<4.0.0,>=3.8.3->langchain) (24.3.0)\n",
            "Requirement already satisfied: frozenlist>=1.1.1 in /usr/local/lib/python3.11/dist-packages (from aiohttp<4.0.0,>=3.8.3->langchain) (1.5.0)\n",
            "Requirement already satisfied: multidict<7.0,>=4.5 in /usr/local/lib/python3.11/dist-packages (from aiohttp<4.0.0,>=3.8.3->langchain) (6.1.0)\n",
            "Requirement already satisfied: propcache>=0.2.0 in /usr/local/lib/python3.11/dist-packages (from aiohttp<4.0.0,>=3.8.3->langchain) (0.2.1)\n",
            "Requirement already satisfied: yarl<2.0,>=1.17.0 in /usr/local/lib/python3.11/dist-packages (from aiohttp<4.0.0,>=3.8.3->langchain) (1.18.3)\n",
            "Collecting marshmallow<4.0.0,>=3.18.0 (from dataclasses-json<0.7,>=0.5.7->langchain_community)\n",
            "  Downloading marshmallow-3.25.1-py3-none-any.whl.metadata (7.3 kB)\n",
            "Collecting typing-inspect<1,>=0.4.0 (from dataclasses-json<0.7,>=0.5.7->langchain_community)\n",
            "  Downloading typing_inspect-0.9.0-py3-none-any.whl.metadata (1.5 kB)\n",
            "Requirement already satisfied: jsonpatch<2.0,>=1.33 in /usr/local/lib/python3.11/dist-packages (from langchain-core<0.4.0,>=0.3.29->langchain) (1.33)\n",
            "Requirement already satisfied: packaging<25,>=23.2 in /usr/local/lib/python3.11/dist-packages (from langchain-core<0.4.0,>=0.3.29->langchain) (24.2)\n",
            "Requirement already satisfied: typing-extensions>=4.7 in /usr/local/lib/python3.11/dist-packages (from langchain-core<0.4.0,>=0.3.29->langchain) (4.12.2)\n",
            "Requirement already satisfied: httpx<1,>=0.23.0 in /usr/local/lib/python3.11/dist-packages (from langsmith<0.3,>=0.1.17->langchain) (0.28.1)\n",
            "Requirement already satisfied: orjson<4.0.0,>=3.9.14 in /usr/local/lib/python3.11/dist-packages (from langsmith<0.3,>=0.1.17->langchain) (3.10.14)\n",
            "Requirement already satisfied: requests-toolbelt<2.0.0,>=1.0.0 in /usr/local/lib/python3.11/dist-packages (from langsmith<0.3,>=0.1.17->langchain) (1.0.0)\n",
            "Requirement already satisfied: annotated-types>=0.6.0 in /usr/local/lib/python3.11/dist-packages (from pydantic<3.0.0,>=2.7.4->langchain) (0.7.0)\n",
            "Requirement already satisfied: pydantic-core==2.27.2 in /usr/local/lib/python3.11/dist-packages (from pydantic<3.0.0,>=2.7.4->langchain) (2.27.2)\n",
            "Collecting python-dotenv>=0.21.0 (from pydantic-settings<3.0.0,>=2.4.0->langchain_community)\n",
            "  Downloading python_dotenv-1.0.1-py3-none-any.whl.metadata (23 kB)\n",
            "Requirement already satisfied: charset-normalizer<4,>=2 in /usr/local/lib/python3.11/dist-packages (from requests<3,>=2->langchain) (3.4.1)\n",
            "Requirement already satisfied: idna<4,>=2.5 in /usr/local/lib/python3.11/dist-packages (from requests<3,>=2->langchain) (3.10)\n",
            "Requirement already satisfied: urllib3<3,>=1.21.1 in /usr/local/lib/python3.11/dist-packages (from requests<3,>=2->langchain) (2.3.0)\n",
            "Requirement already satisfied: certifi>=2017.4.17 in /usr/local/lib/python3.11/dist-packages (from requests<3,>=2->langchain) (2024.12.14)\n",
            "Requirement already satisfied: greenlet!=0.4.17 in /usr/local/lib/python3.11/dist-packages (from SQLAlchemy<3,>=1.4->langchain) (3.1.1)\n",
            "Requirement already satisfied: anyio in /usr/local/lib/python3.11/dist-packages (from httpx<1,>=0.23.0->langsmith<0.3,>=0.1.17->langchain) (3.7.1)\n",
            "Requirement already satisfied: httpcore==1.* in /usr/local/lib/python3.11/dist-packages (from httpx<1,>=0.23.0->langsmith<0.3,>=0.1.17->langchain) (1.0.7)\n",
            "Requirement already satisfied: h11<0.15,>=0.13 in /usr/local/lib/python3.11/dist-packages (from httpcore==1.*->httpx<1,>=0.23.0->langsmith<0.3,>=0.1.17->langchain) (0.14.0)\n",
            "Requirement already satisfied: jsonpointer>=1.9 in /usr/local/lib/python3.11/dist-packages (from jsonpatch<2.0,>=1.33->langchain-core<0.4.0,>=0.3.29->langchain) (3.0.0)\n",
            "Collecting mypy-extensions>=0.3.0 (from typing-inspect<1,>=0.4.0->dataclasses-json<0.7,>=0.5.7->langchain_community)\n",
            "  Downloading mypy_extensions-1.0.0-py3-none-any.whl.metadata (1.1 kB)\n",
            "Requirement already satisfied: sniffio>=1.1 in /usr/local/lib/python3.11/dist-packages (from anyio->httpx<1,>=0.23.0->langsmith<0.3,>=0.1.17->langchain) (1.3.1)\n",
            "Downloading langchain_community-0.3.14-py3-none-any.whl (2.5 MB)\n",
            "\u001b[2K   \u001b[90m━━━━━━━━━━━━━━━━━━━━━━━━━━━━━━━━━━━━━━━━\u001b[0m \u001b[32m2.5/2.5 MB\u001b[0m \u001b[31m43.9 MB/s\u001b[0m eta \u001b[36m0:00:00\u001b[0m\n",
            "\u001b[?25hDownloading dataclasses_json-0.6.7-py3-none-any.whl (28 kB)\n",
            "Downloading httpx_sse-0.4.0-py3-none-any.whl (7.8 kB)\n",
            "Downloading pydantic_settings-2.7.1-py3-none-any.whl (29 kB)\n",
            "Downloading marshmallow-3.25.1-py3-none-any.whl (49 kB)\n",
            "\u001b[2K   \u001b[90m━━━━━━━━━━━━━━━━━━━━━━━━━━━━━━━━━━━━━━━━\u001b[0m \u001b[32m49.6/49.6 kB\u001b[0m \u001b[31m4.0 MB/s\u001b[0m eta \u001b[36m0:00:00\u001b[0m\n",
            "\u001b[?25hDownloading python_dotenv-1.0.1-py3-none-any.whl (19 kB)\n",
            "Downloading typing_inspect-0.9.0-py3-none-any.whl (8.8 kB)\n",
            "Downloading mypy_extensions-1.0.0-py3-none-any.whl (4.7 kB)\n",
            "Installing collected packages: python-dotenv, mypy-extensions, marshmallow, httpx-sse, typing-inspect, pydantic-settings, dataclasses-json, langchain_community\n",
            "Successfully installed dataclasses-json-0.6.7 httpx-sse-0.4.0 langchain_community-0.3.14 marshmallow-3.25.1 mypy-extensions-1.0.0 pydantic-settings-2.7.1 python-dotenv-1.0.1 typing-inspect-0.9.0\n"
          ]
        }
      ]
    },
    {
      "cell_type": "code",
      "source": [
        "\n",
        "# Setup API Key\n",
        "from google.colab import userdata\n",
        "google_API_key = userdata.get('GOOGLE_API_KEY')"
      ],
      "metadata": {
        "id": "31-_mfjXxQu7"
      },
      "execution_count": null,
      "outputs": []
    },
    {
      "cell_type": "code",
      "source": [
        "# Select and configure Model\n",
        "from langchain_google_genai import ChatGoogleGenerativeAI\n",
        "\n",
        "llm = ChatGoogleGenerativeAI(\n",
        "    model=\"gemini-2.0-flash-exp\",\n",
        "    api_key = userdata.get('GOOGLE_API_KEY')\n",
        ")"
      ],
      "metadata": {
        "id": "A6FQBV9jxQx6"
      },
      "execution_count": null,
      "outputs": []
    },
    {
      "cell_type": "code",
      "source": [
        "# test if the model is configured correctly\n",
        "llm.invoke(\"Hi! tell me what is the meaning of life for you in one sentence?\")"
      ],
      "metadata": {
        "colab": {
          "base_uri": "https://localhost:8080/"
        },
        "id": "VQKroJ7cxQ1m",
        "outputId": "f7d76810-03ec-4bba-88c8-fa3be39bd030"
      },
      "execution_count": null,
      "outputs": [
        {
          "output_type": "execute_result",
          "data": {
            "text/plain": [
              "AIMessage(content='For me, the meaning of life is to learn, grow, connect with others, and contribute positively to the world, however small that contribution may be.', additional_kwargs={}, response_metadata={'prompt_feedback': {'block_reason': 0, 'safety_ratings': []}, 'finish_reason': 'STOP', 'safety_ratings': [{'category': 'HARM_CATEGORY_HATE_SPEECH', 'probability': 'NEGLIGIBLE', 'blocked': False}, {'category': 'HARM_CATEGORY_DANGEROUS_CONTENT', 'probability': 'NEGLIGIBLE', 'blocked': False}, {'category': 'HARM_CATEGORY_HARASSMENT', 'probability': 'NEGLIGIBLE', 'blocked': False}, {'category': 'HARM_CATEGORY_SEXUALLY_EXPLICIT', 'probability': 'NEGLIGIBLE', 'blocked': False}]}, id='run-b663d303-4366-4909-91b6-aa3ac5f645cf-0', usage_metadata={'input_tokens': 17, 'output_tokens': 32, 'total_tokens': 49, 'input_token_details': {'cache_read': 0}})"
            ]
          },
          "metadata": {},
          "execution_count": 7
        }
      ]
    },
    {
      "cell_type": "markdown",
      "source": [
        "# **TOOLS/FUNCTIONS FOR CALLING**"
      ],
      "metadata": {
        "id": "GhMgg4TPy3zQ"
      }
    },
    {
      "cell_type": "code",
      "source": [
        "# Define Tools / Functions\n",
        "from langchain_core.tools import tool\n",
        "import math\n",
        "\n",
        "@tool\n",
        "def add(a: int, b: int) -> int:\n",
        "    \"\"\"Add a and b.\"\"\"\n",
        "    return a + b\n",
        "\n",
        "@tool\n",
        "def subtract(a: int, b: int) -> int:\n",
        "    \"\"\"subtract a and b.\"\"\"\n",
        "    return a - b\n",
        "\n",
        "\n",
        "@tool\n",
        "def multiply(a: int, b: int) -> int:\n",
        "    \"\"\"Multiplies a and b.\"\"\"\n",
        "    return a * b\n",
        "\n",
        "@tool\n",
        "def divide(a: int, b: int) -> int:\n",
        "    \"\"\"Divide a and b.\n",
        "       if b=0 then infinity is output\n",
        "       a>0\"\"\"\n",
        "    return a / b\n",
        "\n",
        "@tool\n",
        "def square_rt(a: int) -> float:\n",
        "    \"\"\"Find square root of a number.\"\"\"\n",
        "    return math.sqrt(a)\n",
        "\n",
        "@tool\n",
        "def annual_return(a: int) -> float:\n",
        "    \"\"\"Find annual return of a number.\"\"\"\n",
        "    return (math.sqrt(a) * 85) / 0.15\n",
        "\n",
        "tools = [add, subtract,  multiply, divide, square_rt, annual_return]"
      ],
      "metadata": {
        "id": "9PXs8ojfy1nU"
      },
      "execution_count": null,
      "outputs": []
    },
    {
      "cell_type": "code",
      "source": [
        "# Bind tools to the LLM\n",
        "llm_with_tools = llm.bind_tools(tools)"
      ],
      "metadata": {
        "id": "gwvAB7Ojy12C"
      },
      "execution_count": null,
      "outputs": []
    },
    {
      "cell_type": "code",
      "source": [
        "from IPython.display import display\n",
        "\n",
        "# invoke an LLM without tool\n",
        "ai_msg = llm.invoke(\"What is annual return of 25\")\n",
        "display(ai_msg)"
      ],
      "metadata": {
        "colab": {
          "base_uri": "https://localhost:8080/",
          "height": 451
        },
        "id": "PVwFV93Fy18j",
        "outputId": "142caf74-33b9-414c-9094-00c820ce8c08"
      },
      "execution_count": null,
      "outputs": [
        {
          "output_type": "display_data",
          "data": {
            "text/plain": [
              "AIMessage(content='The phrase \"annual return of 25\" is ambiguous and needs more context to be interpreted correctly. Here\\'s a breakdown of the possibilities and what they mean:\\n\\n**1. Percentage Return (Most Common):**\\n\\n* **Meaning:** This is the most likely interpretation. It means an investment or asset has grown by 25% over the course of one year.\\n* **Example:** If you invested $100 and had an annual return of 25%, you would now have $125 (a gain of $25).\\n* **Calculation:** (Ending Value - Beginning Value) / Beginning Value * 100\\n* **Interpretation:** A 25% annual return is generally considered a very strong return and is often difficult to achieve consistently.\\n\\n**2. Absolute Return (Less Common):**\\n\\n* **Meaning:** This could refer to a fixed dollar amount gain over a year.\\n* **Example:** If you invested $100 and had an annual return of $25 (an absolute return), you would now have $125.\\n* **Calculation:** Ending Value - Beginning Value\\n* **Interpretation:** This doesn\\'t tell you the percentage of growth, just the dollar amount. The significance of a $25 return depends on the initial investment.\\n\\n**3. Return in a Specific Unit (Context Required):**\\n\\n* **Meaning:** The \"25\" could be a return in a specific unit, like points, shares, or some other measure.\\n* **Example:** A stock might have returned 25 points in a year, or a bond might have returned 25 basis points (0.25%).\\n* **Interpretation:** Without knowing the unit, it\\'s impossible to determine the actual value of the return.\\n\\n**To give you a more accurate answer, I need more information. Please tell me:**\\n\\n* **What are you referring to?** (e.g., an investment, a portfolio, a specific stock, etc.)\\n* **Are you talking about a percentage or a dollar amount?**\\n* **Is there a unit of measurement involved?**\\n\\n**In summary, \"annual return of 25\" most likely means a 25% return, but it\\'s important to clarify the context to be sure.**', additional_kwargs={}, response_metadata={'prompt_feedback': {'block_reason': 0, 'safety_ratings': []}, 'finish_reason': 'STOP', 'safety_ratings': [{'category': 'HARM_CATEGORY_HATE_SPEECH', 'probability': 'NEGLIGIBLE', 'blocked': False}, {'category': 'HARM_CATEGORY_DANGEROUS_CONTENT', 'probability': 'NEGLIGIBLE', 'blocked': False}, {'category': 'HARM_CATEGORY_HARASSMENT', 'probability': 'NEGLIGIBLE', 'blocked': False}, {'category': 'HARM_CATEGORY_SEXUALLY_EXPLICIT', 'probability': 'NEGLIGIBLE', 'blocked': False}]}, id='run-d4ec6ecb-fc8b-4dd3-a212-5ca5011ec1a2-0', usage_metadata={'input_tokens': 9, 'output_tokens': 482, 'total_tokens': 491, 'input_token_details': {'cache_read': 0}})"
            ]
          },
          "metadata": {}
        }
      ]
    },
    {
      "cell_type": "code",
      "source": [
        "# invoke an LLM with tools\n",
        "from langchain_core.messages import HumanMessage, AIMessage\n",
        "query = \"What is annual return of 25\"\n",
        "messages = [HumanMessage(query)]\n",
        "display(messages)\n"
      ],
      "metadata": {
        "colab": {
          "base_uri": "https://localhost:8080/",
          "height": 34
        },
        "id": "ZwwPGFo80zp7",
        "outputId": "a1469ef1-ebc2-4aa9-8850-9a2d6125a9aa"
      },
      "execution_count": null,
      "outputs": [
        {
          "output_type": "display_data",
          "data": {
            "text/plain": [
              "[HumanMessage(content='What is annual return of 25', additional_kwargs={}, response_metadata={})]"
            ]
          },
          "metadata": {}
        }
      ]
    },
    {
      "cell_type": "code",
      "source": [
        "ai_msg_tools = llm_with_tools.invoke(messages)\n",
        "messages.append(ai_msg_tools)\n",
        "display(messages)"
      ],
      "metadata": {
        "colab": {
          "base_uri": "https://localhost:8080/",
          "height": 191
        },
        "id": "xzCWr2kO0ztt",
        "outputId": "60ec6a6a-0aeb-4389-8d5b-5ec0f8d9bb10"
      },
      "execution_count": null,
      "outputs": [
        {
          "output_type": "display_data",
          "data": {
            "text/plain": [
              "[HumanMessage(content='What is annual return of 25', additional_kwargs={}, response_metadata={}),\n",
              " AIMessage(content='', additional_kwargs={'function_call': {'name': 'annual_return', 'arguments': '{\"a\": 25.0}'}}, response_metadata={'prompt_feedback': {'block_reason': 0, 'safety_ratings': []}, 'finish_reason': 'STOP', 'safety_ratings': [{'category': 'HARM_CATEGORY_HATE_SPEECH', 'probability': 'NEGLIGIBLE', 'blocked': False}, {'category': 'HARM_CATEGORY_DANGEROUS_CONTENT', 'probability': 'NEGLIGIBLE', 'blocked': False}, {'category': 'HARM_CATEGORY_HARASSMENT', 'probability': 'NEGLIGIBLE', 'blocked': False}, {'category': 'HARM_CATEGORY_SEXUALLY_EXPLICIT', 'probability': 'NEGLIGIBLE', 'blocked': False}]}, id='run-3434c74d-4614-40dc-a84d-a5bfba565062-0', tool_calls=[{'name': 'annual_return', 'args': {'a': 25.0}, 'id': '1c5a4381-4083-4fcb-a3d2-0ee9b1ae6a31', 'type': 'tool_call'}], usage_metadata={'input_tokens': 287, 'output_tokens': 4, 'total_tokens': 291, 'input_token_details': {'cache_read': 0}})]"
            ]
          },
          "metadata": {}
        }
      ]
    },
    {
      "cell_type": "code",
      "source": [
        "display(ai_msg_tools)"
      ],
      "metadata": {
        "colab": {
          "base_uri": "https://localhost:8080/",
          "height": 173
        },
        "id": "CKPn8Uk90zxh",
        "outputId": "257652b2-b4d5-469a-ee5f-e3aaf2031c71"
      },
      "execution_count": null,
      "outputs": [
        {
          "output_type": "display_data",
          "data": {
            "text/plain": [
              "AIMessage(content='', additional_kwargs={'function_call': {'name': 'annual_return', 'arguments': '{\"a\": 25.0}'}}, response_metadata={'prompt_feedback': {'block_reason': 0, 'safety_ratings': []}, 'finish_reason': 'STOP', 'safety_ratings': [{'category': 'HARM_CATEGORY_HATE_SPEECH', 'probability': 'NEGLIGIBLE', 'blocked': False}, {'category': 'HARM_CATEGORY_DANGEROUS_CONTENT', 'probability': 'NEGLIGIBLE', 'blocked': False}, {'category': 'HARM_CATEGORY_HARASSMENT', 'probability': 'NEGLIGIBLE', 'blocked': False}, {'category': 'HARM_CATEGORY_SEXUALLY_EXPLICIT', 'probability': 'NEGLIGIBLE', 'blocked': False}]}, id='run-3434c74d-4614-40dc-a84d-a5bfba565062-0', tool_calls=[{'name': 'annual_return', 'args': {'a': 25.0}, 'id': '1c5a4381-4083-4fcb-a3d2-0ee9b1ae6a31', 'type': 'tool_call'}], usage_metadata={'input_tokens': 287, 'output_tokens': 4, 'total_tokens': 291, 'input_token_details': {'cache_read': 0}})"
            ]
          },
          "metadata": {}
        }
      ]
    },
    {
      "cell_type": "code",
      "source": [
        "print(ai_msg_tools.tool_calls)"
      ],
      "metadata": {
        "colab": {
          "base_uri": "https://localhost:8080/"
        },
        "id": "RSH-mPIB1Dkz",
        "outputId": "d3837ecf-8425-435a-d389-998095dcc91a"
      },
      "execution_count": null,
      "outputs": [
        {
          "output_type": "stream",
          "name": "stdout",
          "text": [
            "[{'name': 'annual_return', 'args': {'a': 25.0}, 'id': '1c5a4381-4083-4fcb-a3d2-0ee9b1ae6a31', 'type': 'tool_call'}]\n"
          ]
        }
      ]
    },
    {
      "cell_type": "code",
      "source": [
        "# Invoke the function / tool\n",
        "for tool_call in ai_msg_tools.tool_calls:\n",
        "    selected_tool = {\n",
        "        \"add\": add,\n",
        "        \"multiply\": multiply,\n",
        "        \"square_rt\":square_rt,\n",
        "        \"annual_return\":annual_return\n",
        "      }[tool_call[\"name\"].lower()]\n",
        "    tool_msg = selected_tool.invoke(tool_call)\n",
        "    display(tool_msg)\n",
        "    messages.append(tool_msg)"
      ],
      "metadata": {
        "colab": {
          "base_uri": "https://localhost:8080/",
          "height": 52
        },
        "id": "UHbtRR7b1Doj",
        "outputId": "5622cb38-bc63-47dc-a47b-bead47f6eea4"
      },
      "execution_count": null,
      "outputs": [
        {
          "output_type": "display_data",
          "data": {
            "text/plain": [
              "ToolMessage(content='2833.3333333333335', name='annual_return', tool_call_id='1c5a4381-4083-4fcb-a3d2-0ee9b1ae6a31')"
            ]
          },
          "metadata": {}
        }
      ]
    },
    {
      "cell_type": "code",
      "source": [
        "# Invoke the llm\n",
        "response = llm_with_tools.invoke(messages)"
      ],
      "metadata": {
        "id": "YEUQ4gI_1Dsr"
      },
      "execution_count": null,
      "outputs": []
    },
    {
      "cell_type": "code",
      "source": [
        "\n",
        "from IPython.display import Markdown\n",
        "\n",
        "Markdown(response.content)"
      ],
      "metadata": {
        "colab": {
          "base_uri": "https://localhost:8080/",
          "height": 46
        },
        "id": "ZKJrNE6s1TdR",
        "outputId": "c8606bed-3724-4a04-c0d4-5bd5d3a9893a"
      },
      "execution_count": null,
      "outputs": [
        {
          "output_type": "execute_result",
          "data": {
            "text/plain": [
              "<IPython.core.display.Markdown object>"
            ],
            "text/markdown": "The annual return of 25 is 2833.33"
          },
          "metadata": {},
          "execution_count": 17
        }
      ]
    },
    {
      "cell_type": "markdown",
      "source": [
        "# **Second Example Question with calling tools**"
      ],
      "metadata": {
        "id": "UOB0U8kc1l5Q"
      }
    },
    {
      "cell_type": "code",
      "source": [
        "# invoke an LLM with tools\n",
        "from langchain_core.messages import HumanMessage, AIMessage\n",
        "query = \"\"\"What is Addition of 2 and 4?\n",
        "           what is the subtraction of 8 and 4?\n",
        "           what is the division of 8 and 2?\n",
        "           what is the multiplication of 7 and 2?\"\"\"\n",
        "messages = [HumanMessage(query)]\n",
        "display(messages)"
      ],
      "metadata": {
        "colab": {
          "base_uri": "https://localhost:8080/",
          "height": 69
        },
        "id": "c4qchx4c1uK5",
        "outputId": "5024fed4-82cc-4266-de29-e7ebc7efd1df"
      },
      "execution_count": null,
      "outputs": [
        {
          "output_type": "display_data",
          "data": {
            "text/plain": [
              "[HumanMessage(content='What is Addition of 2 and 4?\\n           what is the subtraction of 8 and 4?\\n           what is the division of 8 and 2?\\n           what is the multiplication of 7 and 2?', additional_kwargs={}, response_metadata={})]"
            ]
          },
          "metadata": {}
        }
      ]
    },
    {
      "cell_type": "code",
      "source": [
        "ai_msg_tools = llm_with_tools.invoke(messages)\n",
        "messages.append(ai_msg_tools)\n",
        "display(messages)"
      ],
      "metadata": {
        "colab": {
          "base_uri": "https://localhost:8080/",
          "height": 277
        },
        "id": "vFvkuXTv2Zg6",
        "outputId": "80c25d3c-82d7-420d-9e68-5a70ff1acbb3"
      },
      "execution_count": null,
      "outputs": [
        {
          "output_type": "display_data",
          "data": {
            "text/plain": [
              "[HumanMessage(content='What is Addition of 2 and 4?\\n           what is the subtraction of 8 and 4?\\n           what is the division of 8 and 2?\\n           what is the multiplication of 7 and 2?', additional_kwargs={}, response_metadata={}),\n",
              " AIMessage(content='', additional_kwargs={'function_call': {'name': 'multiply', 'arguments': '{\"a\": 7.0, \"b\": 2.0}'}}, response_metadata={'prompt_feedback': {'block_reason': 0, 'safety_ratings': []}, 'finish_reason': 'STOP', 'safety_ratings': [{'category': 'HARM_CATEGORY_HATE_SPEECH', 'probability': 'NEGLIGIBLE', 'blocked': False}, {'category': 'HARM_CATEGORY_DANGEROUS_CONTENT', 'probability': 'NEGLIGIBLE', 'blocked': False}, {'category': 'HARM_CATEGORY_HARASSMENT', 'probability': 'NEGLIGIBLE', 'blocked': False}, {'category': 'HARM_CATEGORY_SEXUALLY_EXPLICIT', 'probability': 'NEGLIGIBLE', 'blocked': False}]}, id='run-c58143d1-028e-49ad-b85f-691201e76a72-0', tool_calls=[{'name': 'add', 'args': {'a': 2.0, 'b': 4.0}, 'id': '27672abf-3c0d-46f9-a94f-4c56f5923abd', 'type': 'tool_call'}, {'name': 'subtract', 'args': {'a': 8.0, 'b': 4.0}, 'id': '59c0f21d-96e6-408e-b6de-d9867c9993c2', 'type': 'tool_call'}, {'name': 'divide', 'args': {'a': 8.0, 'b': 2.0}, 'id': 'ab2ccb44-ac2c-47f2-8b82-3bb0d8ce6c43', 'type': 'tool_call'}, {'name': 'multiply', 'args': {'a': 7.0, 'b': 2.0}, 'id': '7a430e4e-eef2-4e89-8b37-979a27523475', 'type': 'tool_call'}], usage_metadata={'input_tokens': 328, 'output_tokens': 12, 'total_tokens': 340, 'input_token_details': {'cache_read': 0}})]"
            ]
          },
          "metadata": {}
        }
      ]
    },
    {
      "cell_type": "code",
      "source": [
        "print(ai_msg_tools.tool_calls)"
      ],
      "metadata": {
        "colab": {
          "base_uri": "https://localhost:8080/"
        },
        "id": "QcfNTTkN2Zko",
        "outputId": "887f0dc7-5af0-4c82-db38-df81951b0fdf"
      },
      "execution_count": null,
      "outputs": [
        {
          "output_type": "stream",
          "name": "stdout",
          "text": [
            "[{'name': 'add', 'args': {'a': 2.0, 'b': 4.0}, 'id': '27672abf-3c0d-46f9-a94f-4c56f5923abd', 'type': 'tool_call'}, {'name': 'subtract', 'args': {'a': 8.0, 'b': 4.0}, 'id': '59c0f21d-96e6-408e-b6de-d9867c9993c2', 'type': 'tool_call'}, {'name': 'divide', 'args': {'a': 8.0, 'b': 2.0}, 'id': 'ab2ccb44-ac2c-47f2-8b82-3bb0d8ce6c43', 'type': 'tool_call'}, {'name': 'multiply', 'args': {'a': 7.0, 'b': 2.0}, 'id': '7a430e4e-eef2-4e89-8b37-979a27523475', 'type': 'tool_call'}]\n"
          ]
        }
      ]
    },
    {
      "cell_type": "code",
      "source": [
        "# Invoke the function / tool\n",
        "for tool_call in ai_msg_tools.tool_calls:\n",
        "    selected_tool = {\n",
        "        \"add\": add,\n",
        "        \"subtract\": subtract,\n",
        "        \"divide\": divide,\n",
        "        \"multiply\": multiply,\n",
        "        \"square_rt\":square_rt,\n",
        "        \"annual_return\":annual_return\n",
        "      }[tool_call[\"name\"].lower()]\n",
        "    tool_msg = selected_tool.invoke(tool_call)\n",
        "    display(tool_msg)\n",
        "    messages.append(tool_msg)"
      ],
      "metadata": {
        "colab": {
          "base_uri": "https://localhost:8080/",
          "height": 86
        },
        "id": "8xmv74tw2thJ",
        "outputId": "37145eb2-d1e6-418c-883a-e971de49fc30"
      },
      "execution_count": null,
      "outputs": [
        {
          "output_type": "display_data",
          "data": {
            "text/plain": [
              "ToolMessage(content='6', name='add', tool_call_id='27672abf-3c0d-46f9-a94f-4c56f5923abd')"
            ]
          },
          "metadata": {}
        },
        {
          "output_type": "display_data",
          "data": {
            "text/plain": [
              "ToolMessage(content='4', name='subtract', tool_call_id='59c0f21d-96e6-408e-b6de-d9867c9993c2')"
            ]
          },
          "metadata": {}
        },
        {
          "output_type": "display_data",
          "data": {
            "text/plain": [
              "ToolMessage(content='4.0', name='divide', tool_call_id='ab2ccb44-ac2c-47f2-8b82-3bb0d8ce6c43')"
            ]
          },
          "metadata": {}
        },
        {
          "output_type": "display_data",
          "data": {
            "text/plain": [
              "ToolMessage(content='14', name='multiply', tool_call_id='7a430e4e-eef2-4e89-8b37-979a27523475')"
            ]
          },
          "metadata": {}
        }
      ]
    },
    {
      "cell_type": "code",
      "source": [
        "# Invoke the llm\n",
        "response = llm_with_tools.invoke(messages)"
      ],
      "metadata": {
        "id": "YKoe_3gX2tvw"
      },
      "execution_count": null,
      "outputs": []
    },
    {
      "cell_type": "code",
      "source": [
        "from IPython.display import Markdown\n",
        "\n",
        "Markdown(response.content)"
      ],
      "metadata": {
        "colab": {
          "base_uri": "https://localhost:8080/",
          "height": 46
        },
        "id": "6ACceRxU2tzM",
        "outputId": "f3b27bff-b101-4cd6-a112-f9a81a2ed48f"
      },
      "execution_count": null,
      "outputs": [
        {
          "output_type": "execute_result",
          "data": {
            "text/plain": [
              "<IPython.core.display.Markdown object>"
            ],
            "text/markdown": "The addition of 2 and 4 is 6. The subtraction of 8 and 4 is 4. The division of 8 and 2 is 4. The multiplication of 7 and 2 is 14."
          },
          "metadata": {},
          "execution_count": 23
        }
      ]
    }
  ]
}