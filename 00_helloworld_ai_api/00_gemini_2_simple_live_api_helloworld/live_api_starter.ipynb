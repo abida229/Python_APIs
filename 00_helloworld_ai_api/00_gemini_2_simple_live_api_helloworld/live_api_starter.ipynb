{
  "cells": [
    {
      "cell_type": "markdown",
      "metadata": {
        "id": "view-in-github",
        "colab_type": "text"
      },
      "source": [
        "<a href=\"https://colab.research.google.com/github/abida229/Python_APIs/blob/main/00_helloworld_ai_api/00_gemini_2_simple_live_api_helloworld/live_api_starter.ipynb\" target=\"_parent\"><img src=\"https://colab.research.google.com/assets/colab-badge.svg\" alt=\"Open In Colab\"/></a>"
      ]
    },
    {
      "cell_type": "markdown",
      "metadata": {
        "id": "Tce3stUlHN0L"
      },
      "source": [
        "##### Copyright 2024 Google LLC."
      ]
    },
    {
      "cell_type": "code",
      "execution_count": null,
      "metadata": {
        "id": "tuOe1ymfHZPu"
      },
      "outputs": [],
      "source": [
        "#@title Licensed under the Apache License, Version 2.0 (the \"License\");\n",
        "# you may not use this file except in compliance with the License.\n",
        "# You may obtain a copy of the License at\n",
        "#\n",
        "# https://www.apache.org/licenses/LICENSE-2.0\n",
        "#\n",
        "# Unless required by applicable law or agreed to in writing, software\n",
        "# distributed under the License is distributed on an \"AS IS\" BASIS,\n",
        "# WITHOUT WARRANTIES OR CONDITIONS OF ANY KIND, either express or implied.\n",
        "# See the License for the specific language governing permissions and\n",
        "# limitations under the License."
      ]
    },
    {
      "cell_type": "markdown",
      "metadata": {
        "id": "R5DkeFMP75as"
      },
      "source": [
        "# Live API - Quickstart"
      ]
    },
    {
      "cell_type": "markdown",
      "metadata": {
        "id": "tqktCVDm1yFo"
      },
      "source": [
        "<table align=\"left\">\n",
        "  <td>\n",
        "    <a target=\"_blank\" href=\"https://colab.research.google.com/github/panaversity/learn-agentic-ai/blob/main/00_helloworld_ai_api/00_gemini_2_simple_live_api_helloworld/live_api_starter.ipynb\"><img src=\"https://ai.google.dev/site-assets/images/docs/colab_logo_32px.png\" />Run in Google Colab</a>\n",
        "  </td>\n",
        "</table>"
      ]
    },
    {
      "cell_type": "markdown",
      "metadata": {
        "id": "iS0rHk3RBrtA"
      },
      "source": [
        "# Google Gen AI SDK (experimental)\n",
        "The new Google Gen AI SDK provides a unified interface to Gemini 2.0 through both the Gemini Developer API and the Gemini API on Vertex AI. With a few exceptions, code that runs on one platform will run on both. This means that you can prototype an application using the Developer API and then migrate the application to Vertex AI without rewriting your code.\n",
        "\n",
        "The Gen AI SDK also supports the Gemini 1.5 models.\n",
        "\n",
        "The new SDK is available in Python and Go, with Java and JavaScript coming soon.\n",
        "\n",
        "You can start using the SDK as shown below.\n",
        "\n",
        "Install the new SDK: pip install google-genai\n",
        "\n",
        "Then import the library, initialize a client, and generate content:"
      ]
    },
    {
      "cell_type": "markdown",
      "metadata": {
        "id": "Mfk6YY3G5kqp"
      },
      "source": [
        "## Setup"
      ]
    },
    {
      "cell_type": "markdown",
      "metadata": {
        "id": "d5027929de8f"
      },
      "source": [
        "### Install SDK\n",
        "\n",
        "The new **[Google Gen AI SDK](https://ai.google.dev/gemini-api/docs/sdks)** provides programmatic access to Gemini 2.0 (and previous models) using both the [Google AI for Developers](https://ai.google.dev/gemini-api/docs) and [Vertex AI](https://cloud.google.com/vertex-ai/generative-ai/docs/overview) APIs. With a few exceptions, code that runs on one platform will run on both.\n",
        "\n",
        "More details about this new SDK on the [documentation](https://ai.google.dev/gemini-api/docs/sdks) or in the [Getting started](../gemini-2/get_started.ipynb) notebook."
      ]
    },
    {
      "cell_type": "code",
      "execution_count": 1,
      "metadata": {
        "id": "46zEFO2a9FFd",
        "outputId": "d7bd7d29-7507-45df-8152-55c5ec11b9aa",
        "colab": {
          "base_uri": "https://localhost:8080/"
        }
      },
      "outputs": [
        {
          "output_type": "stream",
          "name": "stdout",
          "text": [
            "\u001b[?25l   \u001b[90m━━━━━━━━━━━━━━━━━━━━━━━━━━━━━━━━━━━━━━━━\u001b[0m \u001b[32m0.0/111.9 kB\u001b[0m \u001b[31m?\u001b[0m eta \u001b[36m-:--:--\u001b[0m\r\u001b[2K   \u001b[90m━━━━━━━━━━━━━━━━━━━━━━━━━━━━━━━━━━━━━━━━\u001b[0m \u001b[32m111.9/111.9 kB\u001b[0m \u001b[31m2.9 MB/s\u001b[0m eta \u001b[36m0:00:00\u001b[0m\n",
            "\u001b[?25h"
          ]
        }
      ],
      "source": [
        "!pip install -U -q google-genai"
      ]
    },
    {
      "cell_type": "markdown",
      "metadata": {
        "id": "CTIfnvCn9HvH"
      },
      "source": [
        "### Set up your API key\n",
        "\n",
        "To run the following cell, your API key must be stored in a Colab Secret named `GOOGLE_API_KEY`. If you don't already have an API key, or you're not sure how to create a Colab Secret, see [Authentication](../quickstarts/Authentication.ipynb) for an example."
      ]
    },
    {
      "cell_type": "code",
      "execution_count": 2,
      "metadata": {
        "id": "A1pkoyZb9Jm3"
      },
      "outputs": [],
      "source": [
        "from google.colab import userdata\n",
        "import os\n",
        "\n",
        "os.environ['GOOGLE_API_KEY'] = userdata.get('GOOGLE_API_KEY')"
      ]
    },
    {
      "cell_type": "markdown",
      "metadata": {
        "id": "GOOZsm7i9io6"
      },
      "source": [
        "### Import\n",
        "\n",
        "Import all the necessary modules."
      ]
    },
    {
      "cell_type": "code",
      "execution_count": 3,
      "metadata": {
        "id": "Yd1vs3cP8EmS"
      },
      "outputs": [],
      "source": [
        "from google import genai"
      ]
    },
    {
      "cell_type": "markdown",
      "metadata": {
        "id": "3Hx_Gw9i0Yuv"
      },
      "source": [
        "### Initialize SDK client\n",
        "\n",
        "The client will pick up your API key from the environment variable.\n",
        "To use the live API you need to set the client version to `v1alpha`."
      ]
    },
    {
      "cell_type": "code",
      "execution_count": 4,
      "metadata": {
        "id": "HghvVpbU0Uap"
      },
      "outputs": [],
      "source": [
        "from google import genai\n",
        "client = genai.Client()"
      ]
    },
    {
      "cell_type": "markdown",
      "metadata": {
        "id": "QOov6dpG99rY"
      },
      "source": [
        "### Select a model\n",
        "\n",
        "Multimodal Live API are a new capability introduced with the [Gemini 2.0](https://ai.google.dev/gemini-api/docs/models/gemini-v2) model. It won't work with previous generation models.\n"
      ]
    },
    {
      "cell_type": "code",
      "execution_count": 5,
      "metadata": {
        "id": "27Fikag0xSaB"
      },
      "outputs": [],
      "source": [
        "MODEL: str = \"gemini-2.0-flash-exp\""
      ]
    },
    {
      "cell_type": "markdown",
      "metadata": {
        "id": "jj7gDzfDOq4h"
      },
      "source": [
        "## Text to Text\n",
        "\n",
        "The simplest way to use the Live API is as a text-to-text chat interface, but it can do **a lot** more than this."
      ]
    },
    {
      "cell_type": "code",
      "execution_count": 6,
      "metadata": {
        "colab": {
          "base_uri": "https://localhost:8080/"
        },
        "id": "dDfslcyIOqgI",
        "outputId": "dfbd2631-53ea-492d-ae07-a6f1e4b14079"
      },
      "outputs": [
        {
          "output_type": "stream",
          "name": "stdout",
          "text": [
            "That's a great question! The world of AI is vast and complex, but let's break it down to understand the core concepts. At its heart, AI is about making computers intelligent, meaning they can perform tasks that typically require human intelligence. Here's a simplified explanation of how it works:\n",
            "\n",
            "**The Fundamental Idea: Learning from Data**\n",
            "\n",
            "The core principle behind most AI systems, especially the powerful ones we see today, is **learning from data**. Instead of being explicitly programmed with rules for every situation, AI systems are trained on massive datasets to identify patterns and relationships. This learning process allows them to make predictions, decisions, or generate new content.\n",
            "\n",
            "Think of it like teaching a child. You don't give them a rule for every possible situation; instead, you show them examples and provide feedback, allowing them to generalize and learn for themselves.\n",
            "\n",
            "**Key Concepts & Components:**\n",
            "\n",
            "1. **Data:** This is the fuel for AI. It can be anything: images, text, audio, sensor readings, financial data, etc. The quality and quantity of data are crucial for effective learning.\n",
            "\n",
            "2. **Algorithms:** These are sets of instructions that tell the AI system how to process data and learn. Different algorithms are suited for different types of tasks. Some popular types include:\n",
            "    * **Machine Learning (ML):** This is the most prevalent type of AI. It focuses on enabling computers to learn without explicit programming.\n",
            "        * **Supervised Learning:** The system is trained on labeled data (e.g., images of cats labeled as \"cat\"). It learns to map inputs to outputs.\n",
            "        * **Unsupervised Learning:** The system is trained on unlabeled data. It aims to find patterns and structures within the data (e.g., clustering similar customer behaviors).\n",
            "        * **Reinforcement Learning:** The system learns through trial and error, receiving rewards or penalties based on its actions (e.g., training a robot to navigate a maze).\n",
            "    * **Deep Learning (DL):** A subset of ML that uses artificial neural networks with many layers (hence \"deep\"). These networks can learn extremely complex patterns from large datasets. This is the technology powering many advancements in image recognition, natural language processing, and more.\n",
            "\n",
            "3. **Artificial Neural Networks (ANNs):** Inspired by the structure of the human brain, these networks are made up of interconnected nodes (neurons) organized in layers. Each connection between neurons has a weight associated with it. During learning, these weights are adjusted to improve the network's performance.\n",
            "\n",
            "4. **Training Process:** The process of feeding data to the algorithm and adjusting its parameters (e.g., the weights in a neural network) to optimize its performance. This often involves:\n",
            "    * **Forward Propagation:** Input data is fed through the network, and an output is generated.\n",
            "    * **Loss Calculation:** The difference between the predicted output and the actual output is measured (the \"loss\").\n",
            "    * **Backpropagation:** The loss is used to adjust the weights of the network to reduce the loss. This process is repeated many times until the network performs well on the training data.\n",
            "\n",
            "5. **Inference/Prediction:** Once trained, the AI system can make predictions or decisions on new, unseen data.\n",
            "\n",
            "**A Simplified Analogy: Image Recognition**\n",
            "\n",
            "Imagine you're building an AI to identify cats in pictures:\n",
            "\n",
            "1. **Data:** You gather thousands of images of cats and label them as \"cat.\" You also gather images of other things and label them as \"not cat.\"\n",
            "2. **Algorithm:** You choose a suitable deep learning algorithm (e.g., a convolutional neural network).\n",
            "3. **Training:** You feed the images and labels to the algorithm, allowing it to learn features associated with cats (e.g., pointy ears, whiskers, fur patterns).\n",
            "4. **Inference:** You show the AI a new image it's never seen before. The AI uses its learned patterns to determine if it contains a cat.\n",
            "\n",
            "**Different Types of AI & Their Applications:**\n",
            "\n",
            "* **Natural Language Processing (NLP):** Focuses on understanding and generating human language. Used in chatbots, translation, sentiment analysis, etc.\n",
            "* **Computer Vision:** Enables computers to \"see\" and interpret images and videos. Used in facial recognition, self-driving cars, medical image analysis, etc.\n",
            "* **Robotics:** Combines AI with mechanical engineering to create intelligent robots capable of performing physical tasks.\n",
            "* **Recommender Systems:** Use AI to suggest products, movies, music, etc. based on user preferences.\n",
            "* **And many more!**\n",
            "\n",
            "**Key Takeaways:**\n",
            "\n",
            "* AI is about making computers intelligent through learning from data.\n",
            "* Machine learning and deep learning are powerful tools for achieving AI.\n",
            "* Algorithms are the instructions that tell AI how to learn.\n",
            "* Training is the process of refining an AI system's performance.\n",
            "* Data is the fuel that powers AI.\n",
            "\n",
            "**It's Important to Note:**\n",
            "\n",
            "* AI is still a rapidly evolving field.\n",
            "* There are many ethical considerations surrounding the development and use of AI.\n",
            "* AI is not \"magic\" – it's based on mathematics, statistics, and computer science.\n",
            "\n",
            "This explanation is a simplified overview, and each aspect of AI has its own complexities and nuances. However, I hope this gives you a good foundational understanding of how AI works! Do you have any specific questions you'd like to explore further?\n",
            "\n"
          ]
        }
      ],
      "source": [
        "response = client.models.generate_content(\n",
        "    model=MODEL, contents='How does AI work?'\n",
        ")\n",
        "print(response.text)"
      ]
    }
  ],
  "metadata": {
    "colab": {
      "collapsed_sections": [
        "Tce3stUlHN0L"
      ],
      "provenance": [],
      "include_colab_link": true
    },
    "kernelspec": {
      "display_name": "Python 3",
      "name": "python3"
    }
  },
  "nbformat": 4,
  "nbformat_minor": 0
}